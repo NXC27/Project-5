{
 "cells": [
  {
   "cell_type": "code",
   "execution_count": 1,
   "metadata": {},
   "outputs": [],
   "source": [
    "import cv2\n",
    "import mediapipe as mp\n",
    "import pandas as pd\n",
    "import tensorflow as tf\n",
    "gpu=tf.config.experimental.list_physical_devices('GPU')\n",
    "tf.config.experimental.set_memory_growth(gpu[0], True)"
   ]
  },
  {
   "cell_type": "code",
   "execution_count": 2,
   "metadata": {},
   "outputs": [],
   "source": [
    "mp_hands = mp.solutions.hands\n",
    "hands = mp_hands.Hands()\n",
    "mp_drawing = mp.solutions.drawing_utils\n",
    "mp_drawing_styles = mp.solutions.drawing_styles\n",
    "\n",
    "lm_list = []\n",
    "label = \"S\"\n",
    "number_of_frames = 600"
   ]
  },
  {
   "cell_type": "code",
   "execution_count": 3,
   "metadata": {},
   "outputs": [],
   "source": [
    "def make_landmark_timestep(results):\n",
    "    c_lm = []\n",
    "    for id, lm in enumerate(results.multi_hand_landmarks[0].landmark):\n",
    "        if id==0:\n",
    "            continue\n",
    "        else:\n",
    "            c_lm.append(lm.x)\n",
    "            c_lm.append(lm.y)\n",
    "            c_lm.append(lm.z)\n",
    "    return c_lm"
   ]
  },
  {
   "cell_type": "code",
   "execution_count": 4,
   "metadata": {},
   "outputs": [],
   "source": [
    "cap = cv2.VideoCapture(0)\n",
    "cap1= cv2.imread('ASL.jpg')\n",
    "with mp_hands.Hands(\n",
    "  model_complexity=0,\n",
    "  min_detection_confidence=0.5,\n",
    "  min_tracking_confidence=0.5) as hands:\n",
    "\n",
    "  while len(lm_list) < number_of_frames:\n",
    "    success, image = cap.read()\n",
    "    image = cv2.flip(image, 1)\n",
    "    if not success:\n",
    "      print(\"Ignoring empty camera frame.\")\n",
    "      # If loading a video, use 'break' instead of 'continue'.\n",
    "      continue\n",
    "\n",
    "    # To improve performance, optionally mark the image as not writeable to\n",
    "    # pass by reference.\n",
    "    image.flags.writeable = False\n",
    "    image = cv2.cvtColor(image, cv2.COLOR_BGR2RGB)\n",
    "    results = hands.process(image)\n",
    "\n",
    "    # Draw the hand annotations on the image.\n",
    "    image.flags.writeable = True\n",
    "    image = cv2.cvtColor(image, cv2.COLOR_RGB2BGR)\n",
    "\n",
    "    if results.multi_hand_landmarks:\n",
    "        for hand_landmarks in results.multi_hand_landmarks:\n",
    "            mp_drawing.draw_landmarks(\n",
    "                image,\n",
    "                hand_landmarks,\n",
    "                mp_hands.HAND_CONNECTIONS,\n",
    "                mp_drawing_styles.get_default_hand_landmarks_style(),\n",
    "                mp_drawing_styles.get_default_hand_connections_style())\n",
    "                \n",
    "        lm = make_landmark_timestep(results)\n",
    "        # lm_list.append(lm)\n",
    "        if cv2.waitKey(20)&0xFF==ord('z'):\n",
    "          lm_list.append(lm)\n",
    "        cv2.putText(image,str(len(lm_list)),(20,30),cv2.FONT_HERSHEY_COMPLEX,1,(250,0,0),1)\n",
    "\n",
    "    cv2.imshow('Get HandSign', image)\n",
    "    cv2.imshow(\"ASL\",cap1)\n",
    "\n",
    "    if cv2.waitKey(5) & 0xFF == ord('q'):\n",
    "      break\n",
    "cap.release()\n",
    "cv2.destroyAllWindows()"
   ]
  },
  {
   "cell_type": "code",
   "execution_count": 5,
   "metadata": {},
   "outputs": [],
   "source": [
    "df  = pd.DataFrame(lm_list)\n",
    "df.to_csv(label + \".txt\")"
   ]
  },
  {
   "cell_type": "code",
   "execution_count": 6,
   "metadata": {},
   "outputs": [],
   "source": [
    "cap.release()\n",
    "cv2.destroyAllWindows()"
   ]
  }
 ],
 "metadata": {
  "kernelspec": {
   "display_name": "Python 3.10.8 ('project')",
   "language": "python",
   "name": "python3"
  },
  "language_info": {
   "codemirror_mode": {
    "name": "ipython",
    "version": 3
   },
   "file_extension": ".py",
   "mimetype": "text/x-python",
   "name": "python",
   "nbconvert_exporter": "python",
   "pygments_lexer": "ipython3",
   "version": "3.10.8"
  },
  "orig_nbformat": 4,
  "vscode": {
   "interpreter": {
    "hash": "0ce23e8e737fc33a2f527befbb8ed4a24ed66bd2b2f64b20cc38c34d4defe620"
   }
  }
 },
 "nbformat": 4,
 "nbformat_minor": 2
}
