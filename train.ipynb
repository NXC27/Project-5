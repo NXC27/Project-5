{
 "cells": [
  {
   "cell_type": "code",
   "execution_count": 1,
   "metadata": {},
   "outputs": [],
   "source": [
    "import numpy as np\n",
    "import pandas as pd\n",
    "import glob\n",
    "import tensorflow as tf\n",
    "from keras.layers import LSTM, Dense, Dropout\n",
    "from keras.models import Sequential\n",
    "from sklearn.model_selection import train_test_split"
   ]
  },
  {
   "cell_type": "code",
   "execution_count": 2,
   "metadata": {},
   "outputs": [],
   "source": [
    "from tensorflow.keras.utils import to_categorical"
   ]
  },
  {
   "cell_type": "code",
   "execution_count": 3,
   "metadata": {},
   "outputs": [],
   "source": [
    "gpu=tf.config.experimental.list_physical_devices('GPU')\n",
    "tf.config.experimental.set_memory_growth(gpu[0],True)"
   ]
  },
  {
   "cell_type": "code",
   "execution_count": 4,
   "metadata": {},
   "outputs": [],
   "source": [
    "path=glob.glob('data/*')\n",
    "x=[]\n",
    "y=[]"
   ]
  },
  {
   "cell_type": "markdown",
   "metadata": {},
   "source": [
    "Lấy mẫu 10 frame 1 lần"
   ]
  },
  {
   "cell_type": "code",
   "execution_count": 5,
   "metadata": {},
   "outputs": [],
   "source": [
    "for idx,ppath in enumerate(path):\n",
    "    df=pd.read_csv(ppath)\n",
    "    dataset=df.iloc[:,1:].values\n",
    "    for j in range(0,len(dataset),15):\n",
    "        if j+15>len(dataset):break\n",
    "        x.append(dataset[j:15+j])\n",
    "        y.append(idx)"
   ]
  },
  {
   "cell_type": "code",
   "execution_count": 6,
   "metadata": {},
   "outputs": [],
   "source": [
    "onehot=to_categorical(y).astype(int)"
   ]
  },
  {
   "cell_type": "code",
   "execution_count": 7,
   "metadata": {},
   "outputs": [
    {
     "data": {
      "text/plain": [
       "(1120, 28)"
      ]
     },
     "execution_count": 7,
     "metadata": {},
     "output_type": "execute_result"
    }
   ],
   "source": [
    "onehot.shape"
   ]
  },
  {
   "cell_type": "code",
   "execution_count": 8,
   "metadata": {},
   "outputs": [
    {
     "data": {
      "text/plain": [
       "(1120, 15, 60)"
      ]
     },
     "execution_count": 8,
     "metadata": {},
     "output_type": "execute_result"
    }
   ],
   "source": [
    "x=np.array(x)\n",
    "x.shape\n",
    "# (130, 10, 60) \n",
    "# 130 mẫu, 10 frame, 60 landmarks trong 10 frame\n",
    "# 1 frame có 20 landmarks do bỏ điểm 0, trong 1 frame có 3 tọa độ x,y,z => 3*30 = 60"
   ]
  },
  {
   "cell_type": "markdown",
   "metadata": {},
   "source": [
    "https://www.phamduytung.com/blog/2019-02-06-choosing-the-right-hyperparameters-for-a-simple-lstm-using-keras/#:~:text=alpha%20*%20(N_i%20%2B%20N_o))%7D-,N,d%E1%BB%AF%20li%E1%BB%87u%20m%E1%BA%ABu%2C%20th%C3%AC%20con%20s%E1%BB%91%20c%C3%B3%20v%E1%BA%BB%20h%E1%BB%A3p%20l%C3%BD%20h%C6%A1n.,-Trong%20t%E1%BA%ADp%20d%E1%BB%AF"
   ]
  },
  {
   "cell_type": "code",
   "execution_count": 9,
   "metadata": {},
   "outputs": [
    {
     "name": "stdout",
     "output_type": "stream",
     "text": [
      "Model: \"sequential\"\n",
      "_________________________________________________________________\n",
      " Layer (type)                Output Shape              Param #   \n",
      "=================================================================\n",
      " lstm (LSTM)                 (None, 15, 56)            26208     \n",
      "                                                                 \n",
      " dropout (Dropout)           (None, 15, 56)            0         \n",
      "                                                                 \n",
      " lstm_1 (LSTM)               (None, 15, 56)            25312     \n",
      "                                                                 \n",
      " dropout_1 (Dropout)         (None, 15, 56)            0         \n",
      "                                                                 \n",
      " lstm_2 (LSTM)               (None, 15, 56)            25312     \n",
      "                                                                 \n",
      " dropout_2 (Dropout)         (None, 15, 56)            0         \n",
      "                                                                 \n",
      " lstm_3 (LSTM)               (None, 15, 56)            25312     \n",
      "                                                                 \n",
      " dropout_3 (Dropout)         (None, 15, 56)            0         \n",
      "                                                                 \n",
      " lstm_4 (LSTM)               (None, 56)                25312     \n",
      "                                                                 \n",
      " dropout_4 (Dropout)         (None, 56)                0         \n",
      "                                                                 \n",
      " dense (Dense)               (None, 28)                1596      \n",
      "                                                                 \n",
      "=================================================================\n",
      "Total params: 129,052\n",
      "Trainable params: 129,052\n",
      "Non-trainable params: 0\n",
      "_________________________________________________________________\n",
      "Epoch 1/100\n",
      "30/30 [==============================] - 24s 139ms/step - loss: 3.3105 - categorical_accuracy: 0.0603 - val_loss: 3.1951 - val_categorical_accuracy: 0.1830\n",
      "Epoch 2/100\n",
      "30/30 [==============================] - 1s 44ms/step - loss: 2.8823 - categorical_accuracy: 0.1295 - val_loss: 2.5519 - val_categorical_accuracy: 0.1607\n",
      "Epoch 3/100\n",
      "30/30 [==============================] - 1s 42ms/step - loss: 2.3956 - categorical_accuracy: 0.1897 - val_loss: 2.1545 - val_categorical_accuracy: 0.2143\n",
      "Epoch 4/100\n",
      "30/30 [==============================] - 1s 42ms/step - loss: 2.0271 - categorical_accuracy: 0.3047 - val_loss: 1.6631 - val_categorical_accuracy: 0.4688\n",
      "Epoch 5/100\n",
      "30/30 [==============================] - 1s 43ms/step - loss: 1.5579 - categorical_accuracy: 0.4844 - val_loss: 1.5063 - val_categorical_accuracy: 0.4330\n",
      "Epoch 6/100\n",
      "30/30 [==============================] - 1s 46ms/step - loss: 1.4738 - categorical_accuracy: 0.4933 - val_loss: 1.0941 - val_categorical_accuracy: 0.6875\n",
      "Epoch 7/100\n",
      "30/30 [==============================] - 1s 45ms/step - loss: 1.0945 - categorical_accuracy: 0.6574 - val_loss: 0.8742 - val_categorical_accuracy: 0.7143\n",
      "Epoch 8/100\n",
      "30/30 [==============================] - 1s 46ms/step - loss: 0.8984 - categorical_accuracy: 0.7165 - val_loss: 0.9960 - val_categorical_accuracy: 0.6696\n",
      "Epoch 9/100\n",
      "30/30 [==============================] - 1s 46ms/step - loss: 0.8671 - categorical_accuracy: 0.7042 - val_loss: 0.6467 - val_categorical_accuracy: 0.7812\n",
      "Epoch 10/100\n",
      "30/30 [==============================] - 1s 43ms/step - loss: 0.6702 - categorical_accuracy: 0.7801 - val_loss: 0.6152 - val_categorical_accuracy: 0.7545\n",
      "Epoch 11/100\n",
      "30/30 [==============================] - 2s 51ms/step - loss: 0.7169 - categorical_accuracy: 0.7444 - val_loss: 0.5390 - val_categorical_accuracy: 0.7768\n",
      "Epoch 12/100\n",
      "30/30 [==============================] - 2s 50ms/step - loss: 0.6380 - categorical_accuracy: 0.7600 - val_loss: 0.5872 - val_categorical_accuracy: 0.7991\n",
      "Epoch 13/100\n",
      "30/30 [==============================] - 1s 48ms/step - loss: 0.7129 - categorical_accuracy: 0.7411 - val_loss: 0.5113 - val_categorical_accuracy: 0.8348\n",
      "Epoch 14/100\n",
      "30/30 [==============================] - 1s 47ms/step - loss: 0.6852 - categorical_accuracy: 0.7556 - val_loss: 0.7368 - val_categorical_accuracy: 0.7188\n",
      "Epoch 15/100\n",
      "30/30 [==============================] - 2s 54ms/step - loss: 0.6499 - categorical_accuracy: 0.7388 - val_loss: 0.5033 - val_categorical_accuracy: 0.8170\n",
      "Epoch 16/100\n",
      "30/30 [==============================] - 1s 46ms/step - loss: 0.4901 - categorical_accuracy: 0.8259 - val_loss: 0.5109 - val_categorical_accuracy: 0.8393\n",
      "Epoch 17/100\n",
      "30/30 [==============================] - 1s 45ms/step - loss: 0.4615 - categorical_accuracy: 0.8248 - val_loss: 0.3878 - val_categorical_accuracy: 0.8616\n",
      "Epoch 18/100\n",
      "30/30 [==============================] - 1s 44ms/step - loss: 0.4818 - categorical_accuracy: 0.8192 - val_loss: 0.5018 - val_categorical_accuracy: 0.7857\n",
      "Epoch 19/100\n",
      "30/30 [==============================] - 1s 45ms/step - loss: 0.5168 - categorical_accuracy: 0.8225 - val_loss: 0.4618 - val_categorical_accuracy: 0.8438\n",
      "Epoch 20/100\n",
      "30/30 [==============================] - 1s 46ms/step - loss: 0.5139 - categorical_accuracy: 0.8225 - val_loss: 0.4350 - val_categorical_accuracy: 0.8259\n",
      "Epoch 21/100\n",
      "30/30 [==============================] - 1s 45ms/step - loss: 0.3812 - categorical_accuracy: 0.8672 - val_loss: 0.3897 - val_categorical_accuracy: 0.8348\n",
      "Epoch 22/100\n",
      "30/30 [==============================] - 1s 45ms/step - loss: 0.3553 - categorical_accuracy: 0.8638 - val_loss: 0.4224 - val_categorical_accuracy: 0.8393\n",
      "Epoch 23/100\n",
      "30/30 [==============================] - 1s 45ms/step - loss: 0.3586 - categorical_accuracy: 0.8672 - val_loss: 0.3368 - val_categorical_accuracy: 0.8616\n",
      "Epoch 24/100\n",
      "30/30 [==============================] - 1s 44ms/step - loss: 0.2826 - categorical_accuracy: 0.8984 - val_loss: 0.3256 - val_categorical_accuracy: 0.8884\n",
      "Epoch 25/100\n",
      "30/30 [==============================] - 1s 47ms/step - loss: 0.3335 - categorical_accuracy: 0.8627 - val_loss: 0.5457 - val_categorical_accuracy: 0.8125\n",
      "Epoch 26/100\n",
      "30/30 [==============================] - 1s 43ms/step - loss: 0.3529 - categorical_accuracy: 0.8783 - val_loss: 0.4916 - val_categorical_accuracy: 0.8214\n",
      "Epoch 27/100\n",
      "30/30 [==============================] - 1s 43ms/step - loss: 0.4789 - categorical_accuracy: 0.8181 - val_loss: 0.4066 - val_categorical_accuracy: 0.8527\n",
      "Epoch 28/100\n",
      "30/30 [==============================] - 1s 45ms/step - loss: 0.2994 - categorical_accuracy: 0.9062 - val_loss: 0.3214 - val_categorical_accuracy: 0.8795\n",
      "Epoch 29/100\n",
      "30/30 [==============================] - 1s 46ms/step - loss: 0.2898 - categorical_accuracy: 0.8917 - val_loss: 0.2393 - val_categorical_accuracy: 0.9152\n",
      "Epoch 30/100\n",
      "30/30 [==============================] - 1s 45ms/step - loss: 0.2352 - categorical_accuracy: 0.9152 - val_loss: 0.2580 - val_categorical_accuracy: 0.8973\n",
      "Epoch 31/100\n",
      "30/30 [==============================] - 1s 42ms/step - loss: 0.2869 - categorical_accuracy: 0.8973 - val_loss: 0.3088 - val_categorical_accuracy: 0.8705\n",
      "Epoch 32/100\n",
      "30/30 [==============================] - 1s 46ms/step - loss: 0.2393 - categorical_accuracy: 0.9118 - val_loss: 0.2499 - val_categorical_accuracy: 0.9152\n",
      "Epoch 33/100\n",
      "30/30 [==============================] - 1s 44ms/step - loss: 0.2016 - categorical_accuracy: 0.9375 - val_loss: 0.2930 - val_categorical_accuracy: 0.8839\n",
      "Epoch 34/100\n",
      "30/30 [==============================] - 1s 45ms/step - loss: 0.3726 - categorical_accuracy: 0.8583 - val_loss: 0.2686 - val_categorical_accuracy: 0.9062\n",
      "Epoch 35/100\n",
      "30/30 [==============================] - 1s 44ms/step - loss: 0.2658 - categorical_accuracy: 0.9074 - val_loss: 0.3062 - val_categorical_accuracy: 0.8973\n",
      "Epoch 36/100\n",
      "30/30 [==============================] - 1s 43ms/step - loss: 0.2520 - categorical_accuracy: 0.9018 - val_loss: 0.3086 - val_categorical_accuracy: 0.8571\n",
      "Epoch 37/100\n",
      "30/30 [==============================] - 1s 41ms/step - loss: 0.5215 - categorical_accuracy: 0.8069 - val_loss: 0.2489 - val_categorical_accuracy: 0.9107\n",
      "Epoch 38/100\n",
      "30/30 [==============================] - 1s 48ms/step - loss: 0.2729 - categorical_accuracy: 0.9051 - val_loss: 0.2444 - val_categorical_accuracy: 0.9018\n",
      "Epoch 39/100\n",
      "30/30 [==============================] - 1s 44ms/step - loss: 0.2420 - categorical_accuracy: 0.9174 - val_loss: 0.2224 - val_categorical_accuracy: 0.9062\n",
      "Epoch 40/100\n",
      "30/30 [==============================] - 1s 43ms/step - loss: 0.2227 - categorical_accuracy: 0.9297 - val_loss: 0.1818 - val_categorical_accuracy: 0.9330\n",
      "Epoch 41/100\n",
      "30/30 [==============================] - 1s 42ms/step - loss: 0.1908 - categorical_accuracy: 0.9386 - val_loss: 0.2954 - val_categorical_accuracy: 0.8795\n",
      "Epoch 42/100\n",
      "30/30 [==============================] - 1s 44ms/step - loss: 0.2520 - categorical_accuracy: 0.9174 - val_loss: 0.3566 - val_categorical_accuracy: 0.8750\n",
      "Epoch 43/100\n",
      "30/30 [==============================] - 1s 44ms/step - loss: 0.2369 - categorical_accuracy: 0.9275 - val_loss: 0.1746 - val_categorical_accuracy: 0.9420\n",
      "Epoch 44/100\n",
      "30/30 [==============================] - 1s 42ms/step - loss: 0.1914 - categorical_accuracy: 0.9353 - val_loss: 0.1726 - val_categorical_accuracy: 0.9420\n",
      "Epoch 45/100\n",
      "30/30 [==============================] - 1s 43ms/step - loss: 0.3415 - categorical_accuracy: 0.8884 - val_loss: 0.3346 - val_categorical_accuracy: 0.8750\n",
      "Epoch 46/100\n",
      "30/30 [==============================] - 1s 44ms/step - loss: 0.3005 - categorical_accuracy: 0.9029 - val_loss: 0.2471 - val_categorical_accuracy: 0.9420\n",
      "Epoch 47/100\n",
      "30/30 [==============================] - 1s 43ms/step - loss: 0.1853 - categorical_accuracy: 0.9397 - val_loss: 0.2035 - val_categorical_accuracy: 0.9286\n",
      "Epoch 48/100\n",
      "30/30 [==============================] - 1s 42ms/step - loss: 0.2793 - categorical_accuracy: 0.9007 - val_loss: 0.5262 - val_categorical_accuracy: 0.8125\n",
      "Epoch 49/100\n",
      "30/30 [==============================] - 1s 45ms/step - loss: 0.5140 - categorical_accuracy: 0.8203 - val_loss: 0.3469 - val_categorical_accuracy: 0.8571\n",
      "Epoch 50/100\n",
      "30/30 [==============================] - 1s 44ms/step - loss: 0.2059 - categorical_accuracy: 0.9308 - val_loss: 0.2612 - val_categorical_accuracy: 0.9018\n",
      "Epoch 51/100\n",
      "30/30 [==============================] - 1s 43ms/step - loss: 0.3494 - categorical_accuracy: 0.8806 - val_loss: 0.3041 - val_categorical_accuracy: 0.8705\n",
      "Epoch 52/100\n",
      "30/30 [==============================] - 1s 43ms/step - loss: 0.2166 - categorical_accuracy: 0.9353 - val_loss: 0.1723 - val_categorical_accuracy: 0.9375\n",
      "Epoch 53/100\n",
      "30/30 [==============================] - 1s 43ms/step - loss: 0.1286 - categorical_accuracy: 0.9621 - val_loss: 0.1055 - val_categorical_accuracy: 0.9866\n",
      "Epoch 54/100\n",
      "30/30 [==============================] - 1s 43ms/step - loss: 0.1330 - categorical_accuracy: 0.9554 - val_loss: 0.1232 - val_categorical_accuracy: 0.9688\n",
      "Epoch 55/100\n",
      "30/30 [==============================] - 1s 46ms/step - loss: 0.1511 - categorical_accuracy: 0.9464 - val_loss: 0.1390 - val_categorical_accuracy: 0.9464\n",
      "Epoch 56/100\n",
      "30/30 [==============================] - 1s 47ms/step - loss: 0.1646 - categorical_accuracy: 0.9408 - val_loss: 0.2155 - val_categorical_accuracy: 0.9107\n",
      "Epoch 57/100\n",
      "30/30 [==============================] - 1s 44ms/step - loss: 0.1574 - categorical_accuracy: 0.9464 - val_loss: 0.1757 - val_categorical_accuracy: 0.9420\n",
      "Epoch 58/100\n",
      "30/30 [==============================] - 1s 43ms/step - loss: 0.1230 - categorical_accuracy: 0.9531 - val_loss: 0.1132 - val_categorical_accuracy: 0.9643\n",
      "Epoch 59/100\n",
      "30/30 [==============================] - 1s 49ms/step - loss: 0.1954 - categorical_accuracy: 0.9286 - val_loss: 0.2092 - val_categorical_accuracy: 0.9330\n",
      "Epoch 60/100\n",
      "30/30 [==============================] - 1s 45ms/step - loss: 0.1697 - categorical_accuracy: 0.9342 - val_loss: 0.3403 - val_categorical_accuracy: 0.9196\n",
      "Epoch 61/100\n",
      "30/30 [==============================] - 1s 45ms/step - loss: 0.1688 - categorical_accuracy: 0.9408 - val_loss: 0.1175 - val_categorical_accuracy: 0.9732\n",
      "Epoch 62/100\n",
      "30/30 [==============================] - 1s 44ms/step - loss: 0.1369 - categorical_accuracy: 0.9520 - val_loss: 0.1836 - val_categorical_accuracy: 0.9464\n",
      "Epoch 63/100\n",
      "30/30 [==============================] - 1s 44ms/step - loss: 0.2700 - categorical_accuracy: 0.9118 - val_loss: 0.2071 - val_categorical_accuracy: 0.9241\n",
      "Epoch 64/100\n",
      "30/30 [==============================] - 1s 43ms/step - loss: 0.2573 - categorical_accuracy: 0.9129 - val_loss: 0.4879 - val_categorical_accuracy: 0.8438\n",
      "Epoch 65/100\n",
      "30/30 [==============================] - 1s 46ms/step - loss: 0.3987 - categorical_accuracy: 0.8705 - val_loss: 0.4911 - val_categorical_accuracy: 0.7991\n",
      "Epoch 66/100\n",
      "30/30 [==============================] - 1s 44ms/step - loss: 0.5279 - categorical_accuracy: 0.8449 - val_loss: 0.4392 - val_categorical_accuracy: 0.8705\n",
      "Epoch 67/100\n",
      "30/30 [==============================] - 1s 44ms/step - loss: 0.3631 - categorical_accuracy: 0.8917 - val_loss: 0.1865 - val_categorical_accuracy: 0.9464\n",
      "Epoch 68/100\n",
      "30/30 [==============================] - 1s 44ms/step - loss: 0.1795 - categorical_accuracy: 0.9408 - val_loss: 0.1462 - val_categorical_accuracy: 0.9420\n",
      "Epoch 69/100\n",
      "30/30 [==============================] - 1s 43ms/step - loss: 0.1275 - categorical_accuracy: 0.9598 - val_loss: 0.1113 - val_categorical_accuracy: 0.9777\n",
      "Epoch 70/100\n",
      "30/30 [==============================] - 1s 43ms/step - loss: 0.0886 - categorical_accuracy: 0.9721 - val_loss: 0.1022 - val_categorical_accuracy: 0.9821\n",
      "Epoch 71/100\n",
      "30/30 [==============================] - 1s 46ms/step - loss: 0.0987 - categorical_accuracy: 0.9654 - val_loss: 0.1055 - val_categorical_accuracy: 0.9821\n",
      "Epoch 72/100\n",
      "30/30 [==============================] - 1s 42ms/step - loss: 0.0869 - categorical_accuracy: 0.9688 - val_loss: 0.0948 - val_categorical_accuracy: 0.9732\n",
      "Epoch 73/100\n",
      "30/30 [==============================] - 1s 42ms/step - loss: 0.1137 - categorical_accuracy: 0.9509 - val_loss: 0.0994 - val_categorical_accuracy: 0.9821\n",
      "Epoch 74/100\n",
      "30/30 [==============================] - 1s 46ms/step - loss: 0.0910 - categorical_accuracy: 0.9743 - val_loss: 0.1000 - val_categorical_accuracy: 0.9732\n",
      "Epoch 75/100\n",
      "30/30 [==============================] - 1s 43ms/step - loss: 0.2170 - categorical_accuracy: 0.9353 - val_loss: 0.5779 - val_categorical_accuracy: 0.8750\n",
      "Epoch 76/100\n",
      "30/30 [==============================] - 1s 43ms/step - loss: 0.2295 - categorical_accuracy: 0.9330 - val_loss: 0.1675 - val_categorical_accuracy: 0.9554\n",
      "Epoch 77/100\n",
      "30/30 [==============================] - 1s 47ms/step - loss: 0.1402 - categorical_accuracy: 0.9531 - val_loss: 0.2158 - val_categorical_accuracy: 0.9420\n",
      "Epoch 78/100\n",
      "30/30 [==============================] - 2s 52ms/step - loss: 0.1714 - categorical_accuracy: 0.9453 - val_loss: 0.1901 - val_categorical_accuracy: 0.9420\n",
      "Epoch 79/100\n",
      "30/30 [==============================] - 2s 51ms/step - loss: 0.2476 - categorical_accuracy: 0.9118 - val_loss: 0.1809 - val_categorical_accuracy: 0.9509\n",
      "Epoch 80/100\n",
      "30/30 [==============================] - 2s 52ms/step - loss: 0.1092 - categorical_accuracy: 0.9654 - val_loss: 0.1085 - val_categorical_accuracy: 0.9643\n",
      "Epoch 81/100\n",
      "30/30 [==============================] - 2s 51ms/step - loss: 0.0909 - categorical_accuracy: 0.9732 - val_loss: 0.0878 - val_categorical_accuracy: 0.9821\n",
      "Epoch 82/100\n",
      "30/30 [==============================] - 1s 48ms/step - loss: 0.0935 - categorical_accuracy: 0.9676 - val_loss: 0.1378 - val_categorical_accuracy: 0.9509\n",
      "Epoch 83/100\n",
      "30/30 [==============================] - 1s 47ms/step - loss: 0.1430 - categorical_accuracy: 0.9576 - val_loss: 0.1539 - val_categorical_accuracy: 0.9420\n",
      "Epoch 84/100\n",
      "30/30 [==============================] - 1s 42ms/step - loss: 0.0982 - categorical_accuracy: 0.9665 - val_loss: 0.1697 - val_categorical_accuracy: 0.9509\n",
      "Epoch 85/100\n",
      "30/30 [==============================] - 1s 46ms/step - loss: 0.1211 - categorical_accuracy: 0.9554 - val_loss: 0.3161 - val_categorical_accuracy: 0.9062\n",
      "Epoch 86/100\n",
      "30/30 [==============================] - 1s 49ms/step - loss: 0.5366 - categorical_accuracy: 0.8326 - val_loss: 0.2975 - val_categorical_accuracy: 0.8795\n",
      "Epoch 87/100\n",
      "30/30 [==============================] - 1s 45ms/step - loss: 0.2266 - categorical_accuracy: 0.9252 - val_loss: 0.2282 - val_categorical_accuracy: 0.9152\n",
      "Epoch 88/100\n",
      "30/30 [==============================] - 1s 42ms/step - loss: 0.1651 - categorical_accuracy: 0.9364 - val_loss: 0.1441 - val_categorical_accuracy: 0.9598\n",
      "Epoch 89/100\n",
      "30/30 [==============================] - 1s 45ms/step - loss: 0.1207 - categorical_accuracy: 0.9598 - val_loss: 0.1370 - val_categorical_accuracy: 0.9420\n",
      "Epoch 90/100\n",
      "30/30 [==============================] - 1s 44ms/step - loss: 0.1019 - categorical_accuracy: 0.9665 - val_loss: 0.1033 - val_categorical_accuracy: 0.9821\n",
      "Epoch 91/100\n",
      "30/30 [==============================] - 1s 45ms/step - loss: 0.0712 - categorical_accuracy: 0.9810 - val_loss: 0.0885 - val_categorical_accuracy: 0.9777\n",
      "Epoch 92/100\n",
      "30/30 [==============================] - 1s 46ms/step - loss: 0.0888 - categorical_accuracy: 0.9743 - val_loss: 0.0930 - val_categorical_accuracy: 0.9732\n",
      "Epoch 93/100\n",
      "30/30 [==============================] - 1s 41ms/step - loss: 0.5154 - categorical_accuracy: 0.8571 - val_loss: 0.2704 - val_categorical_accuracy: 0.9107\n",
      "Epoch 94/100\n",
      "30/30 [==============================] - 1s 39ms/step - loss: 0.1366 - categorical_accuracy: 0.9520 - val_loss: 0.0633 - val_categorical_accuracy: 0.9866\n",
      "Epoch 95/100\n",
      "30/30 [==============================] - 1s 40ms/step - loss: 0.0849 - categorical_accuracy: 0.9743 - val_loss: 0.0753 - val_categorical_accuracy: 0.9777\n",
      "Epoch 96/100\n",
      "30/30 [==============================] - 1s 40ms/step - loss: 0.0513 - categorical_accuracy: 0.9877 - val_loss: 0.0901 - val_categorical_accuracy: 0.9688\n",
      "Epoch 97/100\n",
      "30/30 [==============================] - 1s 40ms/step - loss: 0.0544 - categorical_accuracy: 0.9855 - val_loss: 0.0643 - val_categorical_accuracy: 0.9777\n",
      "Epoch 98/100\n",
      "30/30 [==============================] - 1s 43ms/step - loss: 0.0490 - categorical_accuracy: 0.9844 - val_loss: 0.1146 - val_categorical_accuracy: 0.9598\n",
      "Epoch 99/100\n",
      "30/30 [==============================] - 1s 43ms/step - loss: 0.1113 - categorical_accuracy: 0.9621 - val_loss: 0.1086 - val_categorical_accuracy: 0.9777\n",
      "Epoch 100/100\n",
      "30/30 [==============================] - 1s 46ms/step - loss: 0.1628 - categorical_accuracy: 0.9442 - val_loss: 0.2105 - val_categorical_accuracy: 0.9330\n"
     ]
    },
    {
     "data": {
      "text/plain": [
       "<keras.callbacks.History at 0x250dbc92890>"
      ]
     },
     "execution_count": 9,
     "metadata": {},
     "output_type": "execute_result"
    }
   ],
   "source": [
    "X_train, X_test, y_train, y_test = train_test_split(x, onehot, test_size=0.2)\n",
    "\n",
    "model  = Sequential()\n",
    "model.add(LSTM(units = 56, return_sequences = True, input_shape = (15, 60))) # input_shape = 15 frame, 1 frame has 60 landmarks\n",
    "model.add(Dropout(0.2))\n",
    "model.add(LSTM(units = 56, return_sequences = True))\n",
    "model.add(Dropout(0.2))\n",
    "model.add(LSTM(units = 56, return_sequences = True))\n",
    "model.add(Dropout(0.2))\n",
    "model.add(LSTM(units = 56, return_sequences = True))\n",
    "model.add(Dropout(0.2))\n",
    "model.add(LSTM(units = 56))\n",
    "model.add(Dropout(0.1))\n",
    "model.add(Dense(units = 28, activation=\"softmax\"))\n",
    "model.compile(optimizer='Adam', loss='categorical_crossentropy', metrics=['categorical_accuracy'])\n",
    "model.summary()\n",
    "model.fit(X_train, y_train, epochs=100, batch_size=30,validation_data=(X_test, y_test))\n",
    "# model.save(\"model.h5\")"
   ]
  },
  {
   "cell_type": "code",
   "execution_count": 10,
   "metadata": {},
   "outputs": [
    {
     "name": "stdout",
     "output_type": "stream",
     "text": [
      "7/7 [==============================] - 3s 18ms/step\n"
     ]
    },
    {
     "data": {
      "text/plain": [
       "5"
      ]
     },
     "execution_count": 10,
     "metadata": {},
     "output_type": "execute_result"
    }
   ],
   "source": [
    "res=model.predict(X_test)\n",
    "np.argmax(res[2])"
   ]
  },
  {
   "cell_type": "code",
   "execution_count": 11,
   "metadata": {},
   "outputs": [
    {
     "data": {
      "text/plain": [
       "(5, 1)"
      ]
     },
     "execution_count": 11,
     "metadata": {},
     "output_type": "execute_result"
    }
   ],
   "source": [
    "np.argmax(res[2]),y_test[2,np.argmax(res[2])]"
   ]
  },
  {
   "cell_type": "code",
   "execution_count": 12,
   "metadata": {},
   "outputs": [],
   "source": [
    "model.save('model.h5')"
   ]
  },
  {
   "cell_type": "code",
   "execution_count": 13,
   "metadata": {},
   "outputs": [],
   "source": [
    "from sklearn.metrics import multilabel_confusion_matrix,confusion_matrix,accuracy_score\n"
   ]
  },
  {
   "cell_type": "code",
   "execution_count": 14,
   "metadata": {},
   "outputs": [],
   "source": [
    "y_pre=np.zeros_like(res)"
   ]
  },
  {
   "cell_type": "code",
   "execution_count": 15,
   "metadata": {},
   "outputs": [
    {
     "data": {
      "text/plain": [
       "array([[0., 0., 0., ..., 0., 0., 0.],\n",
       "       [0., 0., 0., ..., 0., 0., 0.],\n",
       "       [0., 0., 0., ..., 0., 0., 0.],\n",
       "       ...,\n",
       "       [0., 0., 0., ..., 0., 0., 0.],\n",
       "       [0., 0., 0., ..., 0., 0., 0.],\n",
       "       [0., 0., 0., ..., 0., 0., 0.]], dtype=float32)"
      ]
     },
     "execution_count": 15,
     "metadata": {},
     "output_type": "execute_result"
    }
   ],
   "source": [
    "y_pre[np.arange(len(res)),res.argmax(1)]=1\n",
    "y_pre"
   ]
  },
  {
   "cell_type": "code",
   "execution_count": 16,
   "metadata": {},
   "outputs": [
    {
     "data": {
      "text/plain": [
       "array([[[218,   0],\n",
       "        [  0,   6]],\n",
       "\n",
       "       [[219,   0],\n",
       "        [  0,   5]],\n",
       "\n",
       "       [[214,   0],\n",
       "        [  0,  10]],\n",
       "\n",
       "       [[212,   2],\n",
       "        [  0,  10]],\n",
       "\n",
       "       [[216,   0],\n",
       "        [  0,   8]],\n",
       "\n",
       "       [[217,   0],\n",
       "        [  0,   7]],\n",
       "\n",
       "       [[223,   0],\n",
       "        [  0,   1]],\n",
       "\n",
       "       [[214,   3],\n",
       "        [  0,   7]],\n",
       "\n",
       "       [[219,   0],\n",
       "        [  0,   5]],\n",
       "\n",
       "       [[217,   0],\n",
       "        [  0,   7]],\n",
       "\n",
       "       [[216,   0],\n",
       "        [  0,   8]],\n",
       "\n",
       "       [[214,   0],\n",
       "        [  0,  10]],\n",
       "\n",
       "       [[216,   0],\n",
       "        [  0,   8]],\n",
       "\n",
       "       [[220,   0],\n",
       "        [  0,   4]],\n",
       "\n",
       "       [[218,   0],\n",
       "        [  0,   6]],\n",
       "\n",
       "       [[213,   0],\n",
       "        [  0,  11]],\n",
       "\n",
       "       [[212,   0],\n",
       "        [  2,  10]],\n",
       "\n",
       "       [[214,   0],\n",
       "        [  0,  10]],\n",
       "\n",
       "       [[213,   6],\n",
       "        [  0,   5]],\n",
       "\n",
       "       [[212,   0],\n",
       "        [  0,  12]],\n",
       "\n",
       "       [[216,   0],\n",
       "        [  1,   7]],\n",
       "\n",
       "       [[215,   0],\n",
       "        [  0,   9]],\n",
       "\n",
       "       [[211,   2],\n",
       "        [  7,   4]],\n",
       "\n",
       "       [[214,   0],\n",
       "        [  3,   7]],\n",
       "\n",
       "       [[214,   2],\n",
       "        [  0,   8]],\n",
       "\n",
       "       [[217,   0],\n",
       "        [  1,   6]],\n",
       "\n",
       "       [[213,   0],\n",
       "        [  0,  11]],\n",
       "\n",
       "       [[216,   0],\n",
       "        [  1,   7]]], dtype=int64)"
      ]
     },
     "execution_count": 16,
     "metadata": {},
     "output_type": "execute_result"
    }
   ],
   "source": [
    "multilabel_confusion_matrix(y_test,y_pre)"
   ]
  },
  {
   "cell_type": "code",
   "execution_count": 17,
   "metadata": {},
   "outputs": [],
   "source": [
    "def test(y_hat, test_y):\n",
    "    \"\"\"test\n",
    "    Compute the confusion matrix based on labels and predicted values \n",
    "\n",
    "    :param y_hat: predicted probabilites, output of classifier.feed_forward\n",
    "    :param test_y: test labels\n",
    "    \"\"\"\n",
    "    if (y_hat.ndim == 2):\n",
    "        y_hat = np.argmax(y_hat, axis=1)\n",
    "    num_class = np.unique(test_y).size\n",
    "    confusion_mat = np.zeros((num_class, num_class))\n",
    "\n",
    "    for i in range(num_class):\n",
    "        class_i_idx = test_y == i\n",
    "        num_class_i = np.sum(class_i_idx)\n",
    "        y_hat_i = y_hat[class_i_idx]\n",
    "        for j in range(num_class):\n",
    "            confusion_mat[i,j] = 1.0*np.sum(y_hat_i == j)/num_class_i\n",
    "\n",
    "    np.set_printoptions(precision=2)\n",
    "    print('Confusion matrix:')\n",
    "    print(confusion_mat)\n",
    "    print('Diagonal values:')\n",
    "    print(confusion_mat.flatten()[0::(num_class+1)])"
   ]
  },
  {
   "cell_type": "code",
   "execution_count": 33,
   "metadata": {},
   "outputs": [
    {
     "data": {
      "text/plain": [
       "array([[[218,   0],\n",
       "        [  0,   6]],\n",
       "\n",
       "       [[219,   0],\n",
       "        [  0,   5]],\n",
       "\n",
       "       [[214,   0],\n",
       "        [  0,  10]],\n",
       "\n",
       "       [[212,   2],\n",
       "        [  0,  10]],\n",
       "\n",
       "       [[216,   0],\n",
       "        [  0,   8]],\n",
       "\n",
       "       [[217,   0],\n",
       "        [  0,   7]],\n",
       "\n",
       "       [[223,   0],\n",
       "        [  0,   1]],\n",
       "\n",
       "       [[214,   3],\n",
       "        [  0,   7]],\n",
       "\n",
       "       [[219,   0],\n",
       "        [  0,   5]],\n",
       "\n",
       "       [[217,   0],\n",
       "        [  0,   7]],\n",
       "\n",
       "       [[216,   0],\n",
       "        [  0,   8]],\n",
       "\n",
       "       [[214,   0],\n",
       "        [  0,  10]],\n",
       "\n",
       "       [[216,   0],\n",
       "        [  0,   8]],\n",
       "\n",
       "       [[220,   0],\n",
       "        [  0,   4]],\n",
       "\n",
       "       [[218,   0],\n",
       "        [  0,   6]],\n",
       "\n",
       "       [[213,   0],\n",
       "        [  0,  11]],\n",
       "\n",
       "       [[212,   0],\n",
       "        [  2,  10]],\n",
       "\n",
       "       [[214,   0],\n",
       "        [  0,  10]],\n",
       "\n",
       "       [[213,   6],\n",
       "        [  0,   5]],\n",
       "\n",
       "       [[212,   0],\n",
       "        [  0,  12]],\n",
       "\n",
       "       [[216,   0],\n",
       "        [  1,   7]],\n",
       "\n",
       "       [[215,   0],\n",
       "        [  0,   9]],\n",
       "\n",
       "       [[211,   2],\n",
       "        [  7,   4]],\n",
       "\n",
       "       [[214,   0],\n",
       "        [  3,   7]],\n",
       "\n",
       "       [[214,   2],\n",
       "        [  0,   8]],\n",
       "\n",
       "       [[217,   0],\n",
       "        [  1,   6]],\n",
       "\n",
       "       [[213,   0],\n",
       "        [  0,  11]],\n",
       "\n",
       "       [[216,   0],\n",
       "        [  1,   7]]], dtype=int64)"
      ]
     },
     "execution_count": 33,
     "metadata": {},
     "output_type": "execute_result"
    }
   ],
   "source": [
    "multilabel_confusion_matrix(y_test,y_pre)\n",
    "# array([[[218,   0],               input = 1120 mẫu, lấy 0.2 = 20% mẫu để test\n",
    "#         [  0,   6]],              ==> có 224 mẫu test\n",
    "#                                   Nhận xét array[0] đầu tiên: có tổng số 224 mẫu\n",
    "#        [[219,   0],               với 218 mẫu dự đoán đúng, thực tế đúng,\n",
    "#         [  0,   5]],              6 mẫu dự đoán sai thực tế sai\n",
    "\n",
    "#        [[214,   0],\n",
    "#         [  0,  10]],\n",
    "\n",
    "#        [[212,   2],\n",
    "#         [  0,  10]],"
   ]
  },
  {
   "cell_type": "code",
   "execution_count": 29,
   "metadata": {},
   "outputs": [
    {
     "data": {
      "text/plain": [
       "(224, 28)"
      ]
     },
     "execution_count": 29,
     "metadata": {},
     "output_type": "execute_result"
    }
   ],
   "source": [
    "y_pre.shape"
   ]
  },
  {
   "cell_type": "code",
   "execution_count": 22,
   "metadata": {},
   "outputs": [
    {
     "data": {
      "text/plain": [
       "(224, 28)"
      ]
     },
     "execution_count": 22,
     "metadata": {},
     "output_type": "execute_result"
    }
   ],
   "source": [
    "y_test.shape"
   ]
  }
 ],
 "metadata": {
  "kernelspec": {
   "display_name": "Python 3.10.8 ('project')",
   "language": "python",
   "name": "python3"
  },
  "language_info": {
   "codemirror_mode": {
    "name": "ipython",
    "version": 3
   },
   "file_extension": ".py",
   "mimetype": "text/x-python",
   "name": "python",
   "nbconvert_exporter": "python",
   "pygments_lexer": "ipython3",
   "version": "3.10.8"
  },
  "orig_nbformat": 4,
  "vscode": {
   "interpreter": {
    "hash": "0ce23e8e737fc33a2f527befbb8ed4a24ed66bd2b2f64b20cc38c34d4defe620"
   }
  }
 },
 "nbformat": 4,
 "nbformat_minor": 2
}
